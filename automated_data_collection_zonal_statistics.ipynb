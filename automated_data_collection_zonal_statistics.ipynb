{
 "cells": [
  {
   "cell_type": "code",
   "execution_count": null,
   "id": "a912e571-69c1-4423-8b65-3e1c2474d13d",
   "metadata": {},
   "outputs": [],
   "source": [
    "import rioxarray\n",
    "import geopandas as gpd\n",
    "\n",
    "import pystac_client\n",
    "import odc.stac\n",
    "\n",
    "import folium\n",
    "import numpy as np\n",
    "\n",
    "import matplotlib.pyplot as plt\n",
    "\n",
    "import pandas as pd\n",
    "\n",
    "from rasterio import features\n",
    "import rasterio\n",
    "\n",
    "from xrspatial import zonal_stats"
   ]
  },
  {
   "cell_type": "code",
   "execution_count": null,
   "id": "a88f9652-3432-4073-96b4-da84fd79daa7",
   "metadata": {},
   "outputs": [],
   "source": [
    "data_path = \"assignment_data\""
   ]
  },
  {
   "cell_type": "code",
   "execution_count": null,
   "id": "28cb23ce-5daf-4bbb-b7e1-c3e8f88331bd",
   "metadata": {},
   "outputs": [],
   "source": [
    "output_folder = \"output_group2\""
   ]
  },
  {
   "cell_type": "markdown",
   "id": "756553de-7b38-4b70-b794-2dd5bf27fb5f",
   "metadata": {},
   "source": [
    "# Create clip dataset Rockhampton"
   ]
  },
  {
   "cell_type": "markdown",
   "id": "38367334-a07d-4abb-8894-f715f0bcde07",
   "metadata": {},
   "source": [
    "# Copernicus API Data Download"
   ]
  },
  {
   "cell_type": "markdown",
   "id": "304bfb8d-e568-406f-af5c-d96ddf6f56f5",
   "metadata": {},
   "source": [
    "## Create geom and bbox"
   ]
  },
  {
   "cell_type": "code",
   "execution_count": null,
   "id": "a861d8fd-4ea9-4f4b-b08d-8d8ce8b7386d",
   "metadata": {},
   "outputs": [],
   "source": [
    "def subtract_area_geom(path, name):\n",
    "    \"\"\"\n",
    "    Function to load shapefile, reproject and return geometry and bbox\n",
    "    \"\"\"\n",
    "    #load geodataframe\n",
    "    gdf_area = gpd.read_file(path)\n",
    "\n",
    "    #Filter relevant subset\n",
    "    rockhampton = gdf_area[gdf_area['NAME_2'] == name]\n",
    "\n",
    "    #reproject data\n",
    "    rockhampton_reproj = rockhampton.to_crs(32755)\n",
    "\n",
    "    #store geometry and bbox into variables\n",
    "    bbox = rockhampton.total_bounds\n",
    "    geom = rockhampton_reproj['geometry']\n",
    "\n",
    "    return geom, bbox, rockhampton_reproj #, rockhampton\n",
    "    "
   ]
  },
  {
   "cell_type": "code",
   "execution_count": null,
   "id": "1838b512-2fce-4bdd-a430-69051b803e46",
   "metadata": {},
   "outputs": [],
   "source": [
    "geom, bbox, rockhampton_reproj = subtract_area_geom(f'{data_path}/study_area/ADM_ADM_2.shp', 'Rockhampton')"
   ]
  },
  {
   "cell_type": "markdown",
   "id": "cc3481c4-385b-414d-9b62-293adddd74d1",
   "metadata": {},
   "source": [
    "## Satellite data"
   ]
  },
  {
   "cell_type": "code",
   "execution_count": null,
   "id": "8bf22f95-700e-4a03-9dd3-adce2fa72709",
   "metadata": {},
   "outputs": [],
   "source": [
    "def calculate_ndwi(bbox, geom):\n",
    "\n",
    "    \"\"\"\n",
    "    Function to: \n",
    "    \n",
    "    - access the sentinel2 api. Select timeframe and location and download matching tiles\n",
    "    into a data cube.\n",
    "    - Filter the returned data to the previdously created bbox\n",
    "    - subtrackt the relevant bands\n",
    "    - mask clouds\n",
    "    - calculate NDWI\n",
    "    \n",
    "    \"\"\"\n",
    "    #connect to api\n",
    "    api_url = \"https://earth-search.aws.element84.com/v1\"\n",
    "    collection_id = \"sentinel-2-l2a\"\n",
    "    \n",
    "    client = pystac_client.Client.open(api_url)\n",
    "    search = client.search(\n",
    "        collections=[collection_id],\n",
    "        datetime=\"2017-04-01/2017-08-01\",\n",
    "        bbox= bbox\n",
    "       # query=['eo:cloud_cover<3']\n",
    "    )\n",
    "    \n",
    "    item_collection = search.item_collection()\n",
    "\n",
    "    #select loading criteria\n",
    "    ds = odc.stac.load(\n",
    "        item_collection,\n",
    "        groupby='solar_day',\n",
    "        chunks={'x': 2048, 'y': 2048},\n",
    "        use_overviews=True,\n",
    "        resolution=80,\n",
    "        bbox= bbox#reference_df.total_bounds,\n",
    "    )\n",
    "\n",
    "    #select bands\n",
    "    red = ds['red']\n",
    "    blue = ds['blue']\n",
    "    green = ds['green']\n",
    "    nir = ds['nir']\n",
    "    scl = ds['scl']\n",
    "    #visual = ds['visual']\n",
    "\n",
    "    #clip bands to geometry\n",
    "\n",
    "    blue_clip = blue.rio.clip(geom)\n",
    "    red_clip = red.rio.clip(geom)\n",
    "    nir_clip = nir.rio.clip(geom)\n",
    "    green_clip = green.rio.clip(geom)\n",
    "\n",
    "    #MASK REMOVES CRS\n",
    "\n",
    "    # generate mask (\"True\" for pixel being cloud or water)\n",
    "    mask = scl.isin([\n",
    "        3,  # CLOUD_SHADOWS\n",
    "        8,  # CLOUD_MEDIUM_PROBABILITY\n",
    "        9,  # CLOUD_HIGH_PROBABILITY\n",
    "        10  # THIN_CIRRUS\n",
    "    ])\n",
    "    nir_masked = nir_clip.where(~mask)\n",
    "    green_masked = green_clip.where(~mask)\n",
    "    print('check')\n",
    "\n",
    "\n",
    "    #calculate ndwi\n",
    "    ndwi = (green_masked - nir_masked) / (green_masked + nir_masked)\n",
    "\n",
    "    return ndwi, red_clip, green_clip, blue_clip"
   ]
  },
  {
   "cell_type": "code",
   "execution_count": null,
   "id": "9e59c0f3-03f7-4841-b704-1e740e4afb35",
   "metadata": {},
   "outputs": [],
   "source": [
    "ndwi,red_clip, green_clip, blue_clip = calculate_ndwi(bbox, geom)"
   ]
  },
  {
   "cell_type": "code",
   "execution_count": null,
   "id": "22665645-371f-4f1f-ad7f-4aaedfb729fb",
   "metadata": {},
   "outputs": [],
   "source": [
    "ndwi.sel(time= \"2017-04-08\").plot()"
   ]
  },
  {
   "cell_type": "code",
   "execution_count": null,
   "id": "90a8f196-160e-43f1-95d7-d03638dba8c4",
   "metadata": {},
   "outputs": [],
   "source": [
    "def subset_ndwi_on_date(ndwi,date, output_folder):\n",
    "\n",
    "    \"\"\"\n",
    "    Function to subtract ndwi for specific date out of data cube, than mask flooded area \n",
    "    and save as a file\n",
    "    \n",
    "    \n",
    "    \"\"\"\n",
    "    ndwi_date = ndwi.sel(time= date)\n",
    "\n",
    "    flooded_area = (\n",
    "        (ndwi_date > -0.3)\n",
    "        )\n",
    "\n",
    "    filename_area = output_folder +'/flooded2_' + str(date) + '.tif'\n",
    "\n",
    "    flooded_area.rio.to_raster(filename_area, dtype='int8')\n",
    "\n",
    "    return filename_area"
   ]
  },
  {
   "cell_type": "code",
   "execution_count": null,
   "id": "2824c766-250c-4569-a52e-ff50569e95e3",
   "metadata": {},
   "outputs": [],
   "source": [
    "dates = [\"2017-04-08\",\"2017-04-28\",\"2017-07-27\"]"
   ]
  },
  {
   "cell_type": "code",
   "execution_count": null,
   "id": "efcfde90-933e-489a-9534-1490373abb00",
   "metadata": {},
   "outputs": [],
   "source": [
    "ndwi_paths = {}\n",
    "for date in dates:\n",
    "    print(date)\n",
    "    file = subset_ndwi_on_date(ndwi,date, output_folder)\n",
    "    print(file)\n",
    "    opened_file = rioxarray.open_rasterio(file)\n",
    "    ndwi_paths[date]= opened_file"
   ]
  },
  {
   "cell_type": "code",
   "execution_count": null,
   "id": "351d016a-9b90-4438-8f0c-584e15e4d4ad",
   "metadata": {},
   "outputs": [],
   "source": [
    "ndwi_paths['2017-04-08'].plot()"
   ]
  },
  {
   "cell_type": "markdown",
   "id": "0ffbf1b5-6b91-4811-8612-6e31e79af217",
   "metadata": {},
   "source": [
    "# Rasterize OSM data"
   ]
  },
  {
   "cell_type": "markdown",
   "id": "a53d19c2-ecb5-48de-a693-a9c10b6930a8",
   "metadata": {},
   "source": [
    "#### Load OSM data"
   ]
  },
  {
   "cell_type": "code",
   "execution_count": null,
   "id": "8659eefd-2403-4319-ade7-aa8930e80bc1",
   "metadata": {},
   "outputs": [],
   "source": [
    "osm_lines = gpd.read_file(f'{data_path}/osm_data/osm_lines_new.gpkg')"
   ]
  },
  {
   "cell_type": "markdown",
   "id": "d4a379c5-af85-4a8c-b750-44d53511e3ae",
   "metadata": {},
   "source": [
    "#### explore the data"
   ]
  },
  {
   "cell_type": "code",
   "execution_count": null,
   "id": "ae8f7c0c-aa7a-4c4b-8c02-30e085ec344d",
   "metadata": {},
   "outputs": [],
   "source": [
    "#osm_lines.explore()"
   ]
  },
  {
   "cell_type": "code",
   "execution_count": null,
   "id": "f14aa8aa-19cc-4791-a30d-7bc3cab4ec2f",
   "metadata": {},
   "outputs": [],
   "source": [
    "#osm_lines.columns"
   ]
  },
  {
   "cell_type": "code",
   "execution_count": null,
   "id": "4b21f470-dbf9-492d-8b1c-c81fcf24d5aa",
   "metadata": {
    "scrolled": true
   },
   "outputs": [],
   "source": [
    "#osm_lines.head()"
   ]
  },
  {
   "cell_type": "code",
   "execution_count": null,
   "id": "40deb057-c761-4eba-9c7c-68101214d898",
   "metadata": {},
   "outputs": [],
   "source": [
    "#unique types of roads\n",
    "#osm_lines['highway'].unique()"
   ]
  },
  {
   "cell_type": "code",
   "execution_count": null,
   "id": "86b4d1f9-b5cd-44fe-a148-a62deede18f5",
   "metadata": {},
   "outputs": [],
   "source": [
    "# unique man made lines\n",
    "#osm_lines['man_made'].unique()"
   ]
  },
  {
   "cell_type": "markdown",
   "id": "7668f3b0-20aa-4b22-ac2f-0d0159c38232",
   "metadata": {},
   "source": [
    "#### reproject the osm data to later rasterize it"
   ]
  },
  {
   "cell_type": "code",
   "execution_count": null,
   "id": "49358421-9aa8-43a7-8fbe-6eb0ee523d55",
   "metadata": {},
   "outputs": [],
   "source": [
    "#reproject osm data \n",
    "osm_lines = osm_lines.to_crs(rockhampton_reproj.crs)"
   ]
  },
  {
   "cell_type": "markdown",
   "id": "b4db3832-a2cd-4542-8523-2858568de6f3",
   "metadata": {},
   "source": [
    "#### use sjoin to select the osm data that is within the rockhampton municipality"
   ]
  },
  {
   "cell_type": "code",
   "execution_count": null,
   "id": "11da3d43-e559-4cc3-a65a-28133c8df470",
   "metadata": {},
   "outputs": [],
   "source": [
    "# filter osm data to rockhampton\n",
    "rockhampton_lines = gpd.sjoin(osm_lines,rockhampton_reproj, how='inner')"
   ]
  },
  {
   "cell_type": "code",
   "execution_count": null,
   "id": "01da4365-3fd8-4217-8438-9155e7bfb1dc",
   "metadata": {},
   "outputs": [],
   "source": [
    "#rockhampton_lines.explore()"
   ]
  },
  {
   "cell_type": "markdown",
   "id": "c7108f39-cf8e-4ff5-a56a-06e748d7f74a",
   "metadata": {},
   "source": [
    "#### function to \n",
    "##### - filter the data\n",
    "##### - create a buffer\n",
    "##### - add a 'code' column to the dataset"
   ]
  },
  {
   "cell_type": "code",
   "execution_count": null,
   "id": "5d6fc9f4-3c84-4847-8ff4-ce69460ca958",
   "metadata": {},
   "outputs": [],
   "source": [
    "def filter_and_buffer_osm_data(filter_column: str, filter_attributs: list, code: int, buffer_dist: int ):\n",
    "    \"\"\"\n",
    "    function to \n",
    "\n",
    "    - filter the data\n",
    "    - create a buffer\n",
    "    - add a 'code' column to the dataset\n",
    "    \"\"\"\n",
    "    attribute_list = filter_attributs\n",
    "    filtered_data = rockhampton_lines[rockhampton_lines[filter_column].isin(attribute_list)][['geometry']]\n",
    "    filtered_data.columns = ['geometry']\n",
    "    filtered_data['code'] = code\n",
    "    filtered_data_buffer = filtered_data.buffer(buffer_dist)\n",
    "    data = {\"geometry\":filtered_data_buffer , \"type\": \"Main Roads\", \"code\": code}\n",
    "    assets_area = gpd.GeoDataFrame(data)\n",
    "    return assets_area\n",
    "    "
   ]
  },
  {
   "cell_type": "code",
   "execution_count": null,
   "id": "3f42daf2-67fd-49ee-b992-491daa63aa50",
   "metadata": {},
   "outputs": [],
   "source": [
    "roads_buffer = 50\n",
    "power_buffer = 100"
   ]
  },
  {
   "cell_type": "code",
   "execution_count": null,
   "id": "7dc0abf4-f4ac-44fd-9a32-92bda48e4a6c",
   "metadata": {},
   "outputs": [],
   "source": [
    "main_roads_filter = ['primary', 'secondary', 'tertiary']\n",
    "main_roads_area = filter_and_buffer_osm_data('highway', main_roads_filter, 1, roads_buffer)"
   ]
  },
  {
   "cell_type": "code",
   "execution_count": null,
   "id": "1056e3cc-3821-49e8-a27e-8636cd648d69",
   "metadata": {},
   "outputs": [],
   "source": [
    "power_filter = ['power']\n",
    "power_area = filter_and_buffer_osm_data('man_made', power_filter, 2, power_buffer)"
   ]
  },
  {
   "cell_type": "markdown",
   "id": "7f567bdb-818e-4b23-9617-28fadf8af331",
   "metadata": {},
   "source": [
    "#### merge datasets"
   ]
  },
  {
   "cell_type": "code",
   "execution_count": null,
   "id": "ff4008ad-3ea4-4781-8184-3c34da5c1d75",
   "metadata": {},
   "outputs": [],
   "source": [
    "#concat powerlines and roads\n",
    "assets_area = pd.concat([main_roads_area,power_area]).reset_index(drop=True)"
   ]
  },
  {
   "cell_type": "code",
   "execution_count": null,
   "id": "ce9d6a3b-e2c9-44f4-84cd-0440b27acfd4",
   "metadata": {},
   "outputs": [],
   "source": [
    "assets_area.plot(column='code',legend=True,cmap='Set1')"
   ]
  },
  {
   "cell_type": "markdown",
   "id": "8f789d1d-15bb-4406-85b9-0e1c5867bd92",
   "metadata": {},
   "source": [
    "#### Rasterize Assets data"
   ]
  },
  {
   "cell_type": "code",
   "execution_count": null,
   "id": "bb333b76-ebc5-4bf0-a5fb-f855c06f2098",
   "metadata": {},
   "outputs": [],
   "source": [
    "assets_geom = assets_area[[\"geometry\", \"code\"]].values.tolist()"
   ]
  },
  {
   "cell_type": "code",
   "execution_count": null,
   "id": "af7105a0-0cb5-42c2-a617-c66372699c82",
   "metadata": {},
   "outputs": [],
   "source": [
    "flooded_sqeezed = ndwi_paths[dates[0]].squeeze()"
   ]
  },
  {
   "cell_type": "code",
   "execution_count": null,
   "id": "7eea8fe0-4ba4-4f9e-bace-21cc0aba6fa7",
   "metadata": {},
   "outputs": [],
   "source": [
    "assets_rasterized = features.rasterize(assets_geom, out_shape = flooded_sqeezed.shape, transform = ndwi_paths[\"2017-04-08\"].rio.transform())"
   ]
  },
  {
   "cell_type": "code",
   "execution_count": null,
   "id": "b0bfcdd3-981d-41bf-9b49-ccd2fdae45a0",
   "metadata": {},
   "outputs": [],
   "source": [
    "assets_rasterized_xarr = flooded_sqeezed.copy()\n",
    "assets_rasterized_xarr.data = assets_rasterized\n",
    "assets_rasterized_xarr.plot()"
   ]
  },
  {
   "cell_type": "markdown",
   "id": "7bcbf77f-d7bf-456f-a243-cab2efd3d4d4",
   "metadata": {},
   "source": [
    "# buildings\n",
    "Buildings from 2018 were chosen as indicator for the damage to the population, because it indicates urban areas wehere a lot of people live and can be affected by the floods. We dis not use the population dataset because it had a 100 meter and it would influence the results of the affected area. Although the buildings are from 2018 and therefore there is a possibility of buildings already being destroyed by the floods, it is considered a better indication due to its 10 metre resolution."
   ]
  },
  {
   "cell_type": "code",
   "execution_count": null,
   "id": "c557c9e8-38b1-45a5-8fb8-dc011f3e6467",
   "metadata": {},
   "outputs": [],
   "source": [
    "buidling_path = \"building_data/GHS_BUILT_C_MSZ_E2018_GLOBE_R2023A_54009_10_V1_0_R12_C33.tif\"\n",
    "buildings_2015 = rioxarray.open_rasterio(buidling_path, overview_level = 2)"
   ]
  },
  {
   "cell_type": "code",
   "execution_count": null,
   "id": "b792e7f2-b7d2-4b6b-b392-ff24cd29959d",
   "metadata": {},
   "outputs": [],
   "source": [
    "clip_layer = rockhampton_reproj.to_crs(buildings_2015.rio.crs)"
   ]
  },
  {
   "cell_type": "code",
   "execution_count": null,
   "id": "a6a3589f-966f-46cd-9af7-586024b2d572",
   "metadata": {},
   "outputs": [],
   "source": [
    "bbox = clip_layer.total_bounds"
   ]
  },
  {
   "cell_type": "code",
   "execution_count": null,
   "id": "fa670d03-8883-44e5-93e8-7cf9f879fb60",
   "metadata": {},
   "outputs": [],
   "source": [
    "buildings_clipped = buildings_2015.rio.clip_box(*bbox)"
   ]
  },
  {
   "cell_type": "markdown",
   "id": "d0592262-cec4-45bb-83cb-d1f7d56f0a11",
   "metadata": {},
   "source": [
    "#### change coordinate system of raster and resolution"
   ]
  },
  {
   "cell_type": "markdown",
   "id": "40b57193-52cd-4df6-96a6-bf7e9d08f083",
   "metadata": {},
   "source": [
    "#### legend:\n",
    "##### 01 : MSZ, open spaces, low vegetation surfaces NDVI <= 0.3\n",
    "##### 02 : MSZ, open spaces, medium vegetation surfaces 0.3 < NDVI <=0.5\n",
    "##### 03 : MSZ, open spaces, high vegetation surfaces NDVI > 0.5\n",
    "##### 04 : MSZ, open spaces, water surfaces LAND < 0.5\n",
    "##### 05 : MSZ, open spaces, road surfaces\n",
    "##### 11 : MSZ, built spaces, residential, building height <= 3m\n",
    "##### 12 : MSZ, built spaces, residential, 3m < building height <= 6m\n",
    "##### 13 : MSZ, built spaces, residential, 6m < building height <= 15m\n",
    "##### 14 : MSZ, built spaces, residential, 15m < building height <= 30m\n",
    "##### 15 : MSZ, built spaces, residential, building height > 30m\n",
    "##### 21 : MSZ, built spaces, non-residential, building height <= 3m\n",
    "##### 22 : MSZ, built spaces, non-residential, 3m < building height <= 6m\n",
    "##### 23 : MSZ, built spaces, non-residential, 6m < building height <= 15m\n",
    "##### 24 : MSZ, built spaces, non-residential, 15m < building height <= 30m\n",
    "##### 25 : MSZ, built spaces, non-residential, building height > 30m\n",
    "#### NoData [255]"
   ]
  },
  {
   "cell_type": "code",
   "execution_count": null,
   "id": "4c3b3f9d-f2e3-43e3-8925-dd1b3669b8c2",
   "metadata": {},
   "outputs": [],
   "source": [
    "buildings_clipped_filtered = (\n",
    "    (buildings_clipped>= 11)\n",
    ")"
   ]
  },
  {
   "cell_type": "code",
   "execution_count": null,
   "id": "f17d5fd3-7d25-469b-9303-f069c2bdb198",
   "metadata": {},
   "outputs": [],
   "source": [
    "buildings_clipped_filtered.plot()"
   ]
  },
  {
   "cell_type": "code",
   "execution_count": null,
   "id": "1a16916a-9e87-4400-98a3-28de167cb2f2",
   "metadata": {},
   "outputs": [],
   "source": [
    "buildings_clipped_filtered_squeezed = buildings_clipped_filtered.squeeze()"
   ]
  },
  {
   "cell_type": "code",
   "execution_count": null,
   "id": "0aeb8d72-d2aa-4614-a655-ce650674bb8a",
   "metadata": {},
   "outputs": [],
   "source": [
    "buildings_clipped_filtered_squeezed.rio.to_raster(\"buildings_clipped_filtered.tif\", dtype = \"int8\")"
   ]
  },
  {
   "cell_type": "code",
   "execution_count": null,
   "id": "0f220a3e-1abd-4fde-a6cd-6b9773103507",
   "metadata": {},
   "outputs": [],
   "source": [
    "buildings_clipped_filtered_raster = rioxarray.open_rasterio(\"buildings_clipped_filtered.tif\")"
   ]
  },
  {
   "cell_type": "code",
   "execution_count": null,
   "id": "60bbc7fa-83c9-4231-8b52-72b58df05863",
   "metadata": {},
   "outputs": [],
   "source": [
    "match_layer = red_clip"
   ]
  },
  {
   "cell_type": "code",
   "execution_count": null,
   "id": "4d4396ac-d6dc-4d55-be50-4fc85ee9bb66",
   "metadata": {
    "scrolled": true
   },
   "outputs": [],
   "source": [
    "buildings_clipped_filtered_match = buildings_clipped_filtered_raster.rio.reproject_match(match_layer)"
   ]
  },
  {
   "cell_type": "markdown",
   "id": "6d2f66c1-f5c7-4806-98ad-b3cd13186626",
   "metadata": {},
   "source": [
    "# Zonal Statistics"
   ]
  },
  {
   "cell_type": "code",
   "execution_count": null,
   "id": "9c92a8a4-d675-4f18-b3f0-6336e46bbbf9",
   "metadata": {},
   "outputs": [],
   "source": [
    "# for date, raster in ndwi_paths.items():\n",
    "#     print(date)\n",
    "#     print(raster)"
   ]
  },
  {
   "cell_type": "code",
   "execution_count": null,
   "id": "d97090f1-62b7-4bd0-aa81-be9c1d37b755",
   "metadata": {},
   "outputs": [],
   "source": [
    "\n",
    "def apply_zonal_statistics(satteltite_paths: dict, assets, label: str ):\n",
    "    zonal_statistics_dict = {}\n",
    "    assets_squeeze = assets.squeeze()\n",
    "    for date, raster in ndwi_paths.items():\n",
    "        raster_squeeze = raster.squeeze()\n",
    "        zonal_statistics = zonal_stats(assets_squeeze, raster_squeeze )\n",
    "        zonal_statistics['sum_ha'] = zonal_statistics['sum'] * 80 / 10_000\n",
    "        zonal_statistics_dict[f\"{label}_{date}\"] = zonal_statistics\n",
    "        print(date)\n",
    "        print(zonal_statistics)\n",
    "    return zonal_statistics_dict\n",
    "        \n",
    "    \n",
    "    "
   ]
  },
  {
   "cell_type": "code",
   "execution_count": null,
   "id": "2c2ee19c-63c3-4cdc-b2b9-7e01c8a0d949",
   "metadata": {},
   "outputs": [],
   "source": [
    "stats_assets_infrastructure = apply_zonal_statistics(ndwi_paths, assets_rasterized_xarr, \"assets_infrastructure\")"
   ]
  },
  {
   "cell_type": "code",
   "execution_count": null,
   "id": "c0ba2f55-e663-4fcc-a05b-0e13170aa5d5",
   "metadata": {},
   "outputs": [],
   "source": [
    "stats_assets_building = apply_zonal_statistics(ndwi_paths, buildings_clipped_filtered_match, \"assets_building\")"
   ]
  },
  {
   "cell_type": "markdown",
   "id": "306a1f52-37b3-4af9-94c6-bfc96b40e707",
   "metadata": {
    "jp-MarkdownHeadingCollapsed": true
   },
   "source": [
    "## Subtracks zonal stats"
   ]
  },
  {
   "cell_type": "code",
   "execution_count": null,
   "id": "7fb157f1-edee-4cd1-8e37-9e7f5077f3c1",
   "metadata": {},
   "outputs": [],
   "source": [
    "flood_building_0804 = stats_assets_building['assets_building_2017-04-08'].iloc[1]['sum_ha']\n",
    "flood_building_2804 = stats_assets_building['assets_building_2017-04-28'].iloc[1]['sum_ha']\n",
    "flood_building_2707 = stats_assets_building['assets_building_2017-07-27'].iloc[1]['sum_ha']"
   ]
  },
  {
   "cell_type": "code",
   "execution_count": null,
   "id": "0a470e79-4ce8-4b56-bf41-a66821623346",
   "metadata": {},
   "outputs": [],
   "source": [
    "flood_roads_0804 = stats_assets_infrastructure['assets_infrastructure_2017-04-08'].iloc[1]['sum_ha']\n",
    "flood_roads_2804 = stats_assets_infrastructure['assets_infrastructure_2017-04-28'].iloc[1]['sum_ha']\n",
    "flood_roads_2707 = stats_assets_infrastructure['assets_infrastructure_2017-07-27'].iloc[1]['sum_ha']"
   ]
  },
  {
   "cell_type": "code",
   "execution_count": null,
   "id": "5ae2c1aa-3f60-4969-9ba1-361f3c99028a",
   "metadata": {},
   "outputs": [],
   "source": [
    "stats_assets_infrastructure['assets_infrastructure_2017-04-08'].iloc[2]['sum_ha']"
   ]
  },
  {
   "cell_type": "code",
   "execution_count": null,
   "id": "24018550-e163-46fc-a48b-a56697f61d2f",
   "metadata": {},
   "outputs": [],
   "source": [
    "flood_power_0804 = stats_assets_infrastructure['assets_infrastructure_2017-04-08'].iloc[2]['sum_ha']\n",
    "flood_power_2804 = stats_assets_infrastructure['assets_infrastructure_2017-04-28'].iloc[2]['sum_ha']\n",
    "flood_power_2707 = stats_assets_infrastructure['assets_infrastructure_2017-07-27'].iloc[2]['sum_ha']"
   ]
  },
  {
   "cell_type": "code",
   "execution_count": null,
   "id": "91637e3c-ed20-4686-a178-354d6da09bc5",
   "metadata": {},
   "outputs": [],
   "source": [
    "flood_0804 = np.sum(stats_assets_building['assets_building_2017-04-08']['sum_ha'])\n",
    "flood_2804 = np.sum(stats_assets_building['assets_building_2017-04-28']['sum_ha'])\n",
    "flood_2707 = np.sum(stats_assets_building['assets_building_2017-07-27']['sum_ha'])"
   ]
  },
  {
   "cell_type": "code",
   "execution_count": null,
   "id": "96215647-1626-4169-8d7b-4e0433450cb1",
   "metadata": {},
   "outputs": [],
   "source": [
    "total_flood = [flood_0804,flood_2804,flood_2707]"
   ]
  },
  {
   "cell_type": "code",
   "execution_count": null,
   "id": "a466cd01-49ee-411d-a183-0ebc2e739e14",
   "metadata": {},
   "outputs": [],
   "source": [
    "flooded_buildings = [flood_building_0804,flood_building_2804,flood_building_2707]\n",
    "flooded_roads = [flood_roads_0804, flood_roads_2804, flood_roads_2707]\n",
    "flooded_power = [flood_power_0804, flood_power_2804, flood_power_2707]"
   ]
  },
  {
   "cell_type": "markdown",
   "id": "38b89cda-f697-449f-ab1a-687e3a7f3471",
   "metadata": {},
   "source": [
    "## Making the graph"
   ]
  },
  {
   "cell_type": "code",
   "execution_count": null,
   "id": "b388b8cf-bcf4-40f5-b033-1e47f4af286c",
   "metadata": {},
   "outputs": [],
   "source": [
    "series = pd.Series(flooded_buildings)\n",
    "series2 = pd.Series(total_flood)\n",
    "series3 = pd.Series(flooded_roads)\n",
    "series4 = pd.Series(flooded_power)\n",
    "# Create a plot for the first series\n",
    "fig, ax1 = plt.subplots()\n",
    "\n",
    "ax1.plot(series, color='b', label='Flooded Buildings (ha)')\n",
    "ax1.plot(series3, color='g', label='Flooded Roads (ha)')\n",
    "ax1.plot(series4, color='m', label='Flooded Power (ha)')\n",
    "ax1.set_xlabel('Date')\n",
    "ax1.tick_params(axis='y', labelcolor='b')\n",
    "ax1.set_ylim(0, 15)  # Set the y-axis range from 0 to 1500\n",
    "\n",
    "# Define the positions and labels for x-ticks\n",
    "positions = range(len(flooded_buildings))  # [0, 1, 2]\n",
    "labels = ['08-04', '28-04', '27-07']\n",
    "\n",
    "ax1.set_xticks(positions)\n",
    "ax1.set_xticklabels(labels)\n",
    "\n",
    "# Create a twin axis for the second series\n",
    "ax2 = ax1.twinx()\n",
    "ax2.plot(series2, color='r', label='Total Flood (ha)')\n",
    "ax2.tick_params(axis='y', labelcolor='r')\n",
    "\n",
    "# Combine legends from both axes\n",
    "lines_1, labels_1 = ax1.get_legend_handles_labels()\n",
    "lines_2, labels_2 = ax2.get_legend_handles_labels()\n",
    "ax1.legend(lines_1 + lines_2, labels_1 + labels_2, loc='upper left')\n",
    "\n",
    "# Show the plot\n",
    "fig.tight_layout()\n",
    "plt.show()"
   ]
  },
  {
   "cell_type": "code",
   "execution_count": null,
   "id": "f87e287d-7457-41d0-bd75-117f70543630",
   "metadata": {},
   "outputs": [],
   "source": []
  },
  {
   "cell_type": "code",
   "execution_count": null,
   "id": "c4dd6d6e-47fd-4952-9049-b4b48c18cc7b",
   "metadata": {},
   "outputs": [],
   "source": []
  },
  {
   "cell_type": "code",
   "execution_count": null,
   "id": "2ad008e7-3e25-418c-bb97-c8c1cd3ed848",
   "metadata": {},
   "outputs": [],
   "source": []
  }
 ],
 "metadata": {
  "kernelspec": {
   "display_name": "Python 3 (ipykernel)",
   "language": "python",
   "name": "python3"
  },
  "language_info": {
   "codemirror_mode": {
    "name": "ipython",
    "version": 3
   },
   "file_extension": ".py",
   "mimetype": "text/x-python",
   "name": "python",
   "nbconvert_exporter": "python",
   "pygments_lexer": "ipython3",
   "version": "3.11.9"
  }
 },
 "nbformat": 4,
 "nbformat_minor": 5
}
